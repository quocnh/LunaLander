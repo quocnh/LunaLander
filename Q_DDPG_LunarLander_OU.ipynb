{
 "cells": [
  {
   "cell_type": "code",
   "execution_count": 2,
   "metadata": {
    "id": "fA8Be_fnLZXT",
    "tags": []
   },
   "outputs": [],
   "source": [
    "import torch\n",
    "import torch.optim as optim\n",
    "import torch.nn as nn\n",
    "import torch.nn.functional as F\n",
    "import matplotlib.pyplot as plt\n",
    "import gymnasium as gym\n",
    "import numpy as np\n",
    "import copy"
   ]
  },
  {
   "cell_type": "code",
   "execution_count": 3,
   "metadata": {
    "id": "eR55CGvHLmD2",
    "tags": []
   },
   "outputs": [
    {
     "data": {
      "text/plain": [
       "device(type='cuda')"
      ]
     },
     "execution_count": 3,
     "metadata": {},
     "output_type": "execute_result"
    }
   ],
   "source": [
    "# check and use GPU if available if not use CPU\n",
    "device = torch.device(\"cuda\" if torch.cuda.is_available() else \"cpu\")\n",
    "device"
   ]
  },
  {
   "cell_type": "markdown",
   "metadata": {
    "id": "UKHClzLLR-Pa"
   },
   "source": [
    "# Test Gym Environment Specs and Visualization"
   ]
  },
  {
   "cell_type": "code",
   "execution_count": 20,
   "metadata": {
    "colab": {
     "base_uri": "https://localhost:8080/",
     "height": 532
    },
    "id": "VFMX6rrxLmGW",
    "outputId": "b5481e33-a1d5-404c-edc0-1c8c2eb5b458",
    "tags": []
   },
   "outputs": [
    {
     "name": "stdout",
     "output_type": "stream",
     "text": [
      "Action Space--> Box(-1.0, 1.0, (2,), float32)\n",
      "Observation Space--> Box([-1.5       -1.5       -5.        -5.        -3.1415927 -5.\n",
      " -0.        -0.       ], [1.5       1.5       5.        5.        3.1415927 5.        1.\n",
      " 1.       ], (8,), float32)\n",
      "reward range--> (-inf, inf)\n",
      "Meta data -->  {'render_modes': ['human', 'rgb_array'], 'render_fps': 50}\n",
      "Specifications --> EnvSpec(id='LunarLander-v2', entry_point='gymnasium.envs.box2d.lunar_lander:LunarLander', reward_threshold=200, nondeterministic=False, max_episode_steps=1000, order_enforce=True, autoreset=False, disable_env_checker=False, apply_api_compatibility=False, kwargs={'continuous': True, 'gravity': -10.0, 'enable_wind': False, 'wind_power': 15.0, 'turbulence_power': 1.5, 'render_mode': 'rgb_array'}, namespace=None, name='LunarLander', version=2, additional_wrappers=(), vector_entry_point=None)\n"
     ]
    },
    {
     "data": {
      "text/plain": [
       "<matplotlib.image.AxesImage at 0x7fdfe820db40>"
      ]
     },
     "execution_count": 20,
     "metadata": {},
     "output_type": "execute_result"
    },
    {
     "data": {
      "image/png": "[encoded data removed]",
      "text/plain": [
       "<Figure size 432x288 with 1 Axes>"
      ]
     },
     "metadata": {
      "needs_background": "light"
     },
     "output_type": "display_data"
    }
   ],
   "source": [
    "env = gym.make(\"LunarLander-v2\", continuous = True, gravity = -10.0, enable_wind = False, wind_power = 15.0, turbulence_power = 1.5, render_mode='rgb_array')\n",
    "print('Action Space-->',env.action_space)\n",
    "print('Observation Space-->',env.observation_space)\n",
    "print('reward range-->',env.reward_range)\n",
    "print('Meta data --> ',env.metadata)\n",
    "print('Specifications -->',env.spec)\n",
    "env.reset()\n",
    "\n",
    "prev_screen = env.render()\n",
    "plt.imshow(prev_screen)\n"
   ]
  },
  {
   "cell_type": "code",
   "execution_count": 25,
   "metadata": {
    "tags": []
   },
   "outputs": [],
   "source": [
    "def animate(imgs, _return=True):\n",
    "    import cv2\n",
    "    import os\n",
    "    import string\n",
    "    import random\n",
    "    \n",
    "    \n",
    "    video_name = ''.join(random.choice(string.ascii_letters) for i in range(18)) + '.webm'\n",
    "    height, width, layers = imgs[0].shape\n",
    "    fourcc = cv2.VideoWriter_fourcc(*'VP90')\n",
    "    video = cv2.VideoWriter(video_name, fourcc, 10, (width, height))\n",
    "    \n",
    "    for img in imgs:\n",
    "        img = cv2.cvtColor(img, cv2.COLOR_BGR2RGB)\n",
    "        video.write(img)\n",
    "    video.release()\n",
    "    if _return:\n",
    "        from IPython.display import Video\n",
    "        return Video(video_name)\n",
    "    "
   ]
  },
  {
   "cell_type": "code",
   "execution_count": null,
   "metadata": {},
   "outputs": [],
   "source": [
    "# Test and visualize the agent with random actions\n",
    "frames = []\n",
    "for i in range(200):\n",
    "    frames.append(env.render())\n",
    "    action = env.action_space.sample()\n",
    "    obs, reward, terminated, truncated, info = env.step(action)\n",
    "    if terminated:\n",
    "        env.reset()\n",
    "        \n",
    "env.close()"
   ]
  },
  {
   "cell_type": "code",
   "execution_count": 26,
   "metadata": {
    "tags": []
   },
   "outputs": [
    {
     "name": "stderr",
     "output_type": "stream",
     "text": [
      "OpenCV: FFMPEG: tag 0x30395056/'VP90' is not supported with codec id 167 and format 'webm / WebM'\n"
     ]
    },
    {
     "data": {
      "text/html": [
       "<video src=\"orUqXDsjZMSrkyStTP.webm\" controls  >\n",
       "      Your browser does not support the <code>video</code> element.\n",
       "    </video>"
      ],
      "text/plain": [
       "<IPython.core.display.Video object>"
      ]
     },
     "execution_count": 26,
     "metadata": {},
     "output_type": "execute_result"
    }
   ],
   "source": [
    "animate(frames)"
   ]
  },
  {
   "cell_type": "markdown",
   "metadata": {
    "id": "Q5Q9KTnVSeu-"
   },
   "source": [
    "# Replay Buffer"
   ]
  },
  {
   "cell_type": "code",
   "execution_count": 27,
   "metadata": {
    "id": "5_mBsxnvLmJA",
    "tags": []
   },
   "outputs": [],
   "source": [
    "\n",
    "#Experience Replay Buffer\n",
    "# replay buffer from and some code based on https://github.com/sfujim/TD3\n",
    "\n",
    "# create replay buffer of tuples of (state, next_state, action, reward, done)\n",
    "class ReplayBuffer():\n",
    "    def __init__(self, max_size=1e6):\n",
    "        self.storage = []\n",
    "        self.max_size = max_size\n",
    "        self.ptr = 0\n",
    "\n",
    "    def add(self, data):\n",
    "        if len(self.storage) == self.max_size:\n",
    "            self.storage[int(self.ptr)] = data\n",
    "            self.ptr = (self.ptr + 1) % self.max_size\n",
    "        else:\n",
    "            self.storage.append(data)\n",
    "\n",
    "    def sample(self, batch_size):\n",
    "        ind = np.random.randint(0, len(self.storage), size=batch_size)\n",
    "        x, y, u, r, d = [], [], [], [], []\n",
    "\n",
    "        for i in ind: \n",
    "            X, Y, U, R, D = self.storage[i]\n",
    "            x.append(np.array(X, copy=False))\n",
    "            y.append(np.array(Y, copy=False))\n",
    "            u.append(np.array(U, copy=False))\n",
    "            r.append(np.array(R, copy=False))\n",
    "            d.append(np.array(D, copy=False))\n",
    "\n",
    "        return np.array(x), np.array(y), np.array(u), np.array(r).reshape(-1,1), np.array(d).reshape(-1,1)"
   ]
  },
  {
   "cell_type": "markdown",
   "metadata": {
    "id": "3_ZAwaPHS_HT"
   },
   "source": [
    "# Ornstein Ulhenbeck (OU) noise"
   ]
  },
  {
   "cell_type": "code",
   "execution_count": 28,
   "metadata": {
    "id": "Rq2ZDKaPpwhz",
    "tags": []
   },
   "outputs": [],
   "source": [
    "class OUNoise:\n",
    "    \"\"\"Ornstein-Uhlenbeck process.\"\"\"\n",
    "\n",
    "    def __init__(self, size, mu=0., theta=0.15, sigma=0.2):\n",
    "        \"\"\"Initialize parameters and noise process.\"\"\"\n",
    "        self.mu = mu * np.ones(size)\n",
    "        self.theta = theta\n",
    "        self.sigma = sigma\n",
    "        self.reset()\n",
    "\n",
    "    def reset(self):\n",
    "        \"\"\"Reset the internal state (= noise) to mean (mu).\"\"\"\n",
    "        self.state = copy.copy(self.mu)\n",
    "\n",
    "    def sample(self):\n",
    "        \"\"\"Update internal state and return it as a noise sample.\"\"\"\n",
    "        x = self.state\n",
    "        dx = self.theta * (self.mu - x) + self.sigma * np.array([np.random.randn() for i in range(len(x))])\n",
    "        self.state = x + dx\n",
    "        return self.state"
   ]
  },
  {
   "cell_type": "markdown",
   "metadata": {
    "id": "zORBv4BdTQsN"
   },
   "source": [
    "# Actor Critic Networks"
   ]
  },
  {
   "cell_type": "code",
   "execution_count": 29,
   "metadata": {
    "id": "3YloH-gwMQah",
    "tags": []
   },
   "outputs": [],
   "source": [
    "class ActorNet(nn.Module):\n",
    "    def __init__(self, state_size, action_size, hidden_size, action_max):\n",
    "        super(ActorNet, self).__init__()\n",
    "        self.dense_layer_1 = nn.Linear(state_size, hidden_size)\n",
    "        self.dense_layer_2 = nn.Linear(hidden_size, hidden_size)\n",
    "        self.output = nn.Linear(hidden_size, action_size)\n",
    "        self.action_max = action_max\n",
    "    \n",
    "    def forward(self, x):\n",
    "        x = torch.clamp(x,-1.1,1.1)\n",
    "        x = F.relu(self.dense_layer_1(x))\n",
    "        x = F.relu(self.dense_layer_2(x))\n",
    "        return torch.tanh(self.output(x)) * self.action_max\n",
    "    \n",
    "class CriticNet(nn.Module):\n",
    "    def __init__(self, state_size, action_size, hidden_size):\n",
    "        super(CriticNet, self).__init__()\n",
    "        self.dense_layer_1 = nn.Linear(state_size+action_size, hidden_size)\n",
    "        self.dense_layer_2 = nn.Linear(hidden_size, hidden_size)\n",
    "        self.output = nn.Linear(hidden_size, 1)\n",
    "    \n",
    "    def forward(self, x, a):\n",
    "        x = torch.clamp(x,-1.1,1.1)\n",
    "        x = F.relu(self.dense_layer_1(torch.cat((x,a),dim=1)))\n",
    "        x = F.relu(self.dense_layer_2(x))\n",
    "        return self.output(x)"
   ]
  },
  {
   "cell_type": "markdown",
   "metadata": {
    "id": "9K7ELeN9TKa8"
   },
   "source": [
    "# Agent"
   ]
  },
  {
   "cell_type": "code",
   "execution_count": 30,
   "metadata": {
    "id": "1svDPVdcLmLf",
    "tags": []
   },
   "outputs": [],
   "source": [
    "class DDPGAgent():\n",
    "    def __init__(self, state_size, action_size, hidden_size, actor_lr, critic_lr, discount,\n",
    "                 min_action, max_action, exploration_noise):\n",
    "        self.action_size = action_size\n",
    "        self.actor = ActorNet(state_size, action_size, hidden_size, max_action).to(device)\n",
    "        self.actor_target = ActorNet(state_size, action_size, hidden_size, max_action).to(device)\n",
    "        self.critic = CriticNet(state_size, action_size, hidden_size).to(device)\n",
    "        self.critic_target = CriticNet(state_size, action_size, hidden_size).to(device)\n",
    "        self.actor_target.load_state_dict(self.actor.state_dict())\n",
    "        self.critic_target.load_state_dict(self.critic.state_dict())\n",
    "        \n",
    "        self.actor_optimizer = optim.Adam(self.actor.parameters(), lr=actor_lr)\n",
    "        self.critic_optimizer = optim.Adam(self.critic.parameters(), lr=critic_lr)\n",
    "        self.discount = discount\n",
    "        self.min_action = min_action\n",
    "        self.max_action = max_action\n",
    "        self.exploration_noise = exploration_noise\n",
    "        \n",
    "    def select_action(self, state):\n",
    "        #get action probs then randomly sample from the probabilities\n",
    "        with torch.no_grad():\n",
    "            input_state = torch.FloatTensor(state).to(device)\n",
    "            action = self.actor(input_state)\n",
    "            #detach and turn to numpy to use with np.random.choice()\n",
    "            action = action.detach().cpu().numpy()\n",
    "            #in DDPG add noise for exploration\n",
    "            #action = (action + np.random.normal(0., self.exploration_noise, size=self.action_size)).clip(self.min_action, self.max_action)   \n",
    "            self.ou_noise = OUNoise(action_size)\n",
    "            action += self.ou_noise.sample()\n",
    "            action.clip(self.min_action, self.max_action)  \n",
    "        return action\n",
    "\n",
    "    \n",
    "    def train(self, replay_buffer, batch_size):\n",
    "        # sample a batch from the replay buffer\n",
    "        x0, x1, a, r, d = replay_buffer.sample(batch_size)\n",
    "        # turn batches into tensors and use GPU if available\n",
    "        state_batch = torch.FloatTensor(x0).to(device)\n",
    "        next_state_batch = torch.FloatTensor(x1).to(device)\n",
    "        action_batch = torch.FloatTensor(a).to(device)\n",
    "        reward_batch = torch.FloatTensor(r).to(device)\n",
    "        flipped_done_batch = torch.FloatTensor(d).to(device) #already flipped done when adding to replay buffer\n",
    "\n",
    "        # get target net target values\n",
    "        with torch.no_grad():\n",
    "            target_action = self.actor_target(next_state_batch).view(batch_size,-1)\n",
    "            target_v = reward_batch + flipped_done_batch*self.discount*self.critic_target(next_state_batch, \n",
    "                                                                           target_action).view(batch_size,-1)\n",
    "        # get train net values for updating the critic network    \n",
    "        critic_v = self.critic(state_batch, action_batch).view(batch_size,-1)\n",
    "        \n",
    "        # train critic\n",
    "        critic_loss = F.smooth_l1_loss(critic_v, target_v)\n",
    "        self.critic_optimizer.zero_grad()\n",
    "        critic_loss.backward()\n",
    "        self.critic_optimizer.step() \n",
    "        \n",
    "        # train actor\n",
    "        train_action = self.actor(state_batch)\n",
    "        actor_loss = -torch.mean(self.critic(state_batch,train_action))\n",
    "        self.actor_optimizer.zero_grad()\n",
    "        actor_loss.backward()\n",
    "        self.actor_optimizer.step() \n",
    "        \n",
    "        return actor_loss.detach().cpu().numpy(), critic_loss.detach().cpu().numpy()\n",
    "        \n",
    "        \n",
    "    def update_target_network_soft(self, num_iter, update_every, update_tau=0.001):\n",
    "        # soft target network update: update target networks with mixture of train and target\n",
    "        if num_iter % update_every == 0:\n",
    "            for target_var, var in zip(self.critic_target.parameters(), self.critic.parameters()):\n",
    "                target_var.data.copy_((1.-update_tau) * target_var.data + (update_tau) * var.data)\n",
    "            for target_var, var in zip(self.actor_target.parameters(), self.actor.parameters()):\n",
    "                target_var.data.copy_((1.-update_tau) * target_var.data + (update_tau) * var.data)\n"
   ]
  },
  {
   "cell_type": "markdown",
   "metadata": {
    "id": "iRDGURSeNEt9"
   },
   "source": [
    "# Hyperparameter"
   ]
  },
  {
   "cell_type": "code",
   "execution_count": 31,
   "metadata": {
    "id": "fBWf0XVlLmN3",
    "tags": []
   },
   "outputs": [],
   "source": [
    "# set seed\n",
    "seed = 30\n",
    "env.reset(seed=seed)# new \n",
    "np.random.seed(seed)\n",
    "torch.manual_seed(seed)\n",
    "if torch.cuda.is_available():\n",
    "    torch.cuda.manual_seed(seed)\n",
    "    torch.cuda.manual_seed_all(seed)\n",
    "    \n",
    "# create replay buffer\n",
    "replay_size = 50000 # size of replay buffer\n",
    "replay_buffer = ReplayBuffer(max_size=replay_size)    \n",
    "\n",
    "# target update hyperparameters\n",
    "start_training_after = 10001 # start training NN after this many timesteps\n",
    "update_target_every = 5 # update target network every this steps\n",
    "tau = 0.001\n",
    "\n",
    "episodes = 1000    \n",
    "discount = 0.99\n",
    "batch_size = 32\n",
    "exploration_noise = 0.1 #NOISE\n",
    "hidden_size = 64\n",
    "actor_lr = 0.0005\n",
    "critic_lr = 0.0005\n",
    "reward_scale = 0.01"
   ]
  },
  {
   "cell_type": "code",
   "execution_count": 32,
   "metadata": {
    "colab": {
     "base_uri": "https://localhost:8080/"
    },
    "id": "8gstbK2gLmRO",
    "outputId": "864c493f-c7e3-4049-df14-128bf165506b",
    "tags": []
   },
   "outputs": [],
   "source": [
    "env = gym.make(\"LunarLander-v2\", continuous = True, gravity = -10.0, enable_wind = False, wind_power = 15.0, turbulence_power = 1.5, render_mode='rgb_array')\n",
    "action_size = env.action_space.shape[0]\n",
    "state_size = env.observation_space.shape[0]\n",
    "min_action = env.action_space.low[0]\n",
    "max_action = env.action_space.high[0]"
   ]
  },
  {
   "cell_type": "code",
   "execution_count": 33,
   "metadata": {
    "id": "DDJcq8xXNU8L",
    "tags": []
   },
   "outputs": [],
   "source": [
    "agent = DDPGAgent(state_size=state_size, action_size=action_size, hidden_size=hidden_size, \n",
    "                  actor_lr=actor_lr, critic_lr=critic_lr, discount=discount, min_action=min_action,\n",
    "                  max_action=max_action, exploration_noise=exploration_noise)"
   ]
  },
  {
   "cell_type": "markdown",
   "metadata": {
    "id": "aRRufUtWTYGq"
   },
   "source": [
    "# Training"
   ]
  },
  {
   "cell_type": "code",
   "execution_count": 35,
   "metadata": {
    "colab": {
     "base_uri": "https://localhost:8080/"
    },
    "id": "YWoiwEPqNeQ3",
    "outputId": "7081db90-eb95-4dd2-91b5-8bd5b9e85939",
    "tags": []
   },
   "outputs": [
    {
     "name": "stdout",
     "output_type": "stream",
     "text": [
      "Episode: 100 Timestep: 10064 Total reward: -158.0 Episode length: 92.7 Actor Loss: 0.1678 Critic Loss: 0.0034\n",
      "Episode: 110 Timestep: 10484 Total reward: -256.1 Episode length: 42.0 Actor Loss: 0.1553 Critic Loss: 0.0041\n",
      "Episode: 120 Timestep: 10927 Total reward: -257.4 Episode length: 44.3 Actor Loss: 0.1558 Critic Loss: 0.0032\n",
      "Episode: 130 Timestep: 11502 Total reward: -255.7 Episode length: 57.5 Actor Loss: 0.1553 Critic Loss: 0.0031\n",
      "Episode: 140 Timestep: 13192 Total reward: -239.5 Episode length: 169.0 Actor Loss: 0.1473 Critic Loss: 0.0023\n",
      "Episode: 150 Timestep: 14778 Total reward: -173.1 Episode length: 158.6 Actor Loss: 0.1363 Critic Loss: 0.0019\n",
      "Episode: 160 Timestep: 18882 Total reward: -206.7 Episode length: 410.4 Actor Loss: 0.1302 Critic Loss: 0.0014\n",
      "Episode: 170 Timestep: 20524 Total reward: -267.1 Episode length: 164.2 Actor Loss: 0.1288 Critic Loss: 0.0013\n",
      "Episode: 180 Timestep: 21924 Total reward: -260.8 Episode length: 140.0 Actor Loss: 0.1290 Critic Loss: 0.0012\n",
      "Episode: 190 Timestep: 27021 Total reward: -234.9 Episode length: 509.7 Actor Loss: 0.1238 Critic Loss: 0.0012\n",
      "Episode: 200 Timestep: 30621 Total reward: -261.3 Episode length: 360.0 Actor Loss: 0.1184 Critic Loss: 0.0011\n",
      "Episode: 210 Timestep: 32796 Total reward: -254.4 Episode length: 217.5 Actor Loss: 0.1202 Critic Loss: 0.0011\n",
      "Episode: 220 Timestep: 34951 Total reward: -264.4 Episode length: 215.5 Actor Loss: 0.1208 Critic Loss: 0.0010\n",
      "Episode: 230 Timestep: 38792 Total reward: -233.3 Episode length: 384.1 Actor Loss: 0.1218 Critic Loss: 0.0011\n",
      "Episode: 240 Timestep: 48243 Total reward: -240.3 Episode length: 945.1 Actor Loss: 0.1136 Critic Loss: 0.0010\n",
      "Episode: 250 Timestep: 57283 Total reward: -241.2 Episode length: 904.0 Actor Loss: 0.1047 Critic Loss: 0.0008\n",
      "Episode: 260 Timestep: 72332 Total reward: -252.1 Episode length: 1504.9 Actor Loss: 0.0962 Critic Loss: 0.0005\n",
      "Episode: 270 Timestep: 85457 Total reward: -252.0 Episode length: 1312.5 Actor Loss: 0.0800 Critic Loss: 0.0003\n",
      "Episode: 280 Timestep: 99498 Total reward: -183.1 Episode length: 1404.1 Actor Loss: 0.0662 Critic Loss: 0.0001\n",
      "Episode: 290 Timestep: 110591 Total reward: -201.9 Episode length: 1109.3 Actor Loss: 0.0659 Critic Loss: 0.0001\n",
      "Episode: 300 Timestep: 123751 Total reward: -131.0 Episode length: 1316.0 Actor Loss: 0.0616 Critic Loss: 0.0001\n",
      "Episode: 310 Timestep: 130399 Total reward: -124.3 Episode length: 664.8 Actor Loss: 0.0492 Critic Loss: 0.0002\n",
      "Episode: 320 Timestep: 136356 Total reward: -140.5 Episode length: 595.7 Actor Loss: 0.0408 Critic Loss: 0.0003\n",
      "Episode: 330 Timestep: 143918 Total reward: -87.6 Episode length: 756.2 Actor Loss: 0.0329 Critic Loss: 0.0004\n",
      "Episode: 340 Timestep: 146421 Total reward: -60.4 Episode length: 250.3 Actor Loss: 0.0295 Critic Loss: 0.0004\n",
      "Episode: 350 Timestep: 151067 Total reward: -116.1 Episode length: 464.6 Actor Loss: 0.0273 Critic Loss: 0.0004\n",
      "Episode: 360 Timestep: 159540 Total reward: -58.8 Episode length: 847.3 Actor Loss: 0.0171 Critic Loss: 0.0005\n",
      "Episode: 370 Timestep: 167342 Total reward: -74.8 Episode length: 780.2 Actor Loss: 0.0094 Critic Loss: 0.0005\n",
      "Episode: 380 Timestep: 171922 Total reward: -52.1 Episode length: 458.0 Actor Loss: 0.0077 Critic Loss: 0.0006\n",
      "Episode: 390 Timestep: 178464 Total reward: -156.3 Episode length: 654.2 Actor Loss: -0.0004 Critic Loss: 0.0006\n",
      "Episode: 400 Timestep: 187838 Total reward: -120.0 Episode length: 937.4 Actor Loss: -0.0047 Critic Loss: 0.0006\n",
      "Episode: 410 Timestep: 197194 Total reward: -42.1 Episode length: 935.6 Actor Loss: -0.0066 Critic Loss: 0.0006\n",
      "Episode: 420 Timestep: 205119 Total reward: 82.4 Episode length: 792.5 Actor Loss: -0.0089 Critic Loss: 0.0006\n",
      "Episode: 430 Timestep: 209621 Total reward: -101.5 Episode length: 450.2 Actor Loss: -0.0112 Critic Loss: 0.0007\n",
      "Episode: 440 Timestep: 216850 Total reward: 32.1 Episode length: 722.9 Actor Loss: -0.0187 Critic Loss: 0.0006\n",
      "Episode: 450 Timestep: 226061 Total reward: -10.6 Episode length: 921.1 Actor Loss: -0.0264 Critic Loss: 0.0005\n",
      "Episode: 460 Timestep: 237600 Total reward: 74.4 Episode length: 1153.9 Actor Loss: -0.0245 Critic Loss: 0.0005\n",
      "Episode: 470 Timestep: 246540 Total reward: 166.0 Episode length: 894.0 Actor Loss: -0.0333 Critic Loss: 0.0006\n",
      "Episode: 480 Timestep: 256127 Total reward: 115.9 Episode length: 958.7 Actor Loss: -0.0429 Critic Loss: 0.0005\n",
      "Episode: 490 Timestep: 265156 Total reward: 70.4 Episode length: 902.9 Actor Loss: -0.0498 Critic Loss: 0.0005\n",
      "Episode: 500 Timestep: 273403 Total reward: 119.0 Episode length: 824.7 Actor Loss: -0.0527 Critic Loss: 0.0005\n",
      "Episode: 510 Timestep: 280280 Total reward: 189.2 Episode length: 687.7 Actor Loss: -0.0605 Critic Loss: 0.0005\n",
      "Episode: 520 Timestep: 288682 Total reward: 131.9 Episode length: 840.2 Actor Loss: -0.0701 Critic Loss: 0.0006\n",
      "Episode: 530 Timestep: 294825 Total reward: 84.5 Episode length: 614.3 Actor Loss: -0.0801 Critic Loss: 0.0006\n",
      "Episode: 540 Timestep: 297840 Total reward: 147.3 Episode length: 301.5 Actor Loss: -0.0872 Critic Loss: 0.0007\n",
      "Episode: 550 Timestep: 302464 Total reward: 167.0 Episode length: 462.4 Actor Loss: -0.0971 Critic Loss: 0.0008\n",
      "Stopping at episode 555 with average rewards of 223.86859447720045 in last 10 episodes\n"
     ]
    }
   ],
   "source": [
    "stats_rewards_list = [] # store stats for plotting in this\n",
    "stats_every = 10 # print stats every this many episodes\n",
    "total_reward = 0\n",
    "timesteps = 0\n",
    "episode_length = 0\n",
    "stats_actor_loss, stats_critic_loss = [], []\n",
    "\n",
    "for ep in range(episodes):\n",
    "    state, info = env.reset()\n",
    "\n",
    "    # stopping condition for training if agent reaches the amount of reward\n",
    "    if len(stats_rewards_list) > stats_every and np.mean(stats_rewards_list[-stats_every:],axis=0)[1] > 190:\n",
    "        print(\"Stopping at episode {} with average rewards of {} in last {} episodes\".\n",
    "            format(ep, np.mean(stats_rewards_list[-stats_every:],axis=0)[1], stats_every))\n",
    "        break  \n",
    "\n",
    "    # train in each episode until episode is done\n",
    "    while True:\n",
    "        timesteps += 1\n",
    "        #env.render()\n",
    "        # select an action from the agent's policy\n",
    "        action = agent.select_action(state)\n",
    "        \n",
    "        # enter action into the env\n",
    "        # next_state, reward, done, _ = env.step(action)\n",
    "        next_state, reward, terminated, truncated, info = env.step(action)\n",
    "        total_reward += reward\n",
    "        episode_length += 1\n",
    "        # end episode early\n",
    "        if total_reward < -250:\n",
    "            terminated = 1\n",
    "        \n",
    "        # add experience to replay buffer\n",
    "        replay_buffer.add((state, next_state, action, reward*reward_scale, 1-float(terminated)))\n",
    "        \n",
    "        # train the agent\n",
    "        if timesteps >= start_training_after:\n",
    "            actor_loss, critic_loss = agent.train(replay_buffer, batch_size)\n",
    "            stats_actor_loss.append(actor_loss) \n",
    "            stats_critic_loss.append(critic_loss) \n",
    "            agent.update_target_network_soft(timesteps, update_target_every)\n",
    "            \n",
    "        if terminated:\n",
    "            stats_rewards_list.append((ep, total_reward, episode_length))\n",
    "            total_reward = 0\n",
    "            episode_length = 0  \n",
    "            if timesteps >= start_training_after and ep % stats_every == 0:\n",
    "                print('Episode: {}'.format(ep),\n",
    "                    'Timestep: {}'.format(timesteps),\n",
    "                    'Total reward: {:.1f}'.format(np.mean(stats_rewards_list[-stats_every:],axis=0)[1]),\n",
    "                    'Episode length: {:.1f}'.format(np.mean(stats_rewards_list[-stats_every:],axis=0)[2]),\n",
    "                    'Actor Loss: {:.4f}'.format(np.mean(stats_actor_loss)), \n",
    "                    'Critic Loss: {:.4f}'.format(np.mean(stats_critic_loss)))\n",
    "                stats_actor_loss, stats_critic_loss = [], []\n",
    "            break\n",
    "        \n",
    "        state = next_state"
   ]
  },
  {
   "cell_type": "code",
   "execution_count": 36,
   "metadata": {
    "colab": {
     "base_uri": "https://localhost:8080/",
     "height": 300
    },
    "id": "DiLU41N0NlBt",
    "outputId": "5858f4fd-e89d-4f45-dd38-c25c3903e2d5",
    "tags": []
   },
   "outputs": [
    {
     "data": {
      "text/plain": [
       "Text(0, 0.5, 'Episode Reward')"
      ]
     },
     "execution_count": 36,
     "metadata": {},
     "output_type": "execute_result"
    },
    {
     "data": {
      "image/png": "[encoded data removed]",
      "text/plain": [
       "<Figure size 432x288 with 1 Axes>"
      ]
     },
     "metadata": {
      "needs_background": "light"
     },
     "output_type": "display_data"
    }
   ],
   "source": [
    "# plot stats\n",
    "def get_running_stat(stat, stat_len):\n",
    "    cum_sum = np.cumsum(np.insert(stat, 0, 0)) \n",
    "    return (cum_sum[stat_len:] - cum_sum[:-stat_len]) / stat_len\n",
    "\n",
    "episode, r, l = np.array(stats_rewards_list).T\n",
    "cum_r = get_running_stat(r, 10)\n",
    "cum_l = get_running_stat(l, 10)\n",
    "\n",
    "# plot rewards\n",
    "plt.plot(episode[-len(cum_r):], cum_r)\n",
    "plt.plot(episode, r, alpha=0.5)\n",
    "plt.xlabel('Episode')\n",
    "plt.ylabel('Episode Reward')"
   ]
  },
  {
   "cell_type": "markdown",
   "metadata": {},
   "source": [
    "# Testing"
   ]
  },
  {
   "cell_type": "code",
   "execution_count": 37,
   "metadata": {
    "tags": []
   },
   "outputs": [],
   "source": [
    "def plot_episode(env, agent):\n",
    "    state, info = env.reset()\n",
    "    frames = []\n",
    "    while True:\n",
    "        action = agent.select_action(state)\n",
    "        next_state, reward, terminated, truncated, info = env.step(action)\n",
    "        img = env.render()\n",
    "        frames.append(img)\n",
    "        state = next_state\n",
    "        if terminated:\n",
    "            break\n",
    "    return frames"
   ]
  },
  {
   "cell_type": "code",
   "execution_count": 38,
   "metadata": {
    "tags": []
   },
   "outputs": [],
   "source": [
    "test_env = gym.make('LunarLander-v2', continuous=True, gravity=-10.0, enable_wind=False, wind_power=15.0, turbulence_power=1.5, render_mode='rgb_array')"
   ]
  },
  {
   "cell_type": "code",
   "execution_count": 39,
   "metadata": {
    "tags": []
   },
   "outputs": [],
   "source": [
    "frames = plot_episode(test_env, agent)"
   ]
  },
  {
   "cell_type": "code",
   "execution_count": 40,
   "metadata": {
    "tags": []
   },
   "outputs": [
    {
     "name": "stderr",
     "output_type": "stream",
     "text": [
      "OpenCV: FFMPEG: tag 0x30395056/'VP90' is not supported with codec id 167 and format 'webm / WebM'\n"
     ]
    },
    {
     "data": {
      "text/html": [
       "<video src=\"ALNLpXRyRjoazZAmtc.webm\" controls  >\n",
       "      Your browser does not support the <code>video</code> element.\n",
       "    </video>"
      ],
      "text/plain": [
       "<IPython.core.display.Video object>"
      ]
     },
     "execution_count": 40,
     "metadata": {},
     "output_type": "execute_result"
    }
   ],
   "source": [
    "animate(frames)"
   ]
  },
  {
   "cell_type": "code",
   "execution_count": null,
   "metadata": {},
   "outputs": [],
   "source": []
  }
 ],
 "metadata": {
  "accelerator": "GPU",
  "colab": {
   "provenance": []
  },
  "gpuClass": "standard",
  "kernelspec": {
   "display_name": "Python 3 (ipykernel)",
   "language": "python",
   "name": "python3"
  },
  "language_info": {
   "codemirror_mode": {
    "name": "ipython",
    "version": 3
   },
   "file_extension": ".py",
   "mimetype": "text/x-python",
   "name": "python",
   "nbconvert_exporter": "python",
   "pygments_lexer": "ipython3",
   "version": "3.10.12"
  }
 },
 "nbformat": 4,
 "nbformat_minor": 4
}
